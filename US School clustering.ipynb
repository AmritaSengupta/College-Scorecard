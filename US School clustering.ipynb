{
 "cells": [
  {
   "cell_type": "markdown",
   "metadata": {},
   "source": [
    "__\"The College Scorecard project is designed to increase transparency, putting the power in the hands of students and families to compare colleges and see how well schools are preparing their students to be successful. Students and families compare college costs and outcomes as they weigh the tradeoffs of different colleges, accounting for their own needs and educational goals.__ \n",
    "\n",
    "__These data provide insights into the performance of schools that receive federal financial aid dollars, and the outcomes of the students of those schools.\"__\n",
    "\n",
    "WE ARE REQUIRED TO DO THE FOLLOWING:\n",
    "\n",
    "Increase college graduation rates for underpriveleged populations by using cluster analysis to identify the groups of characteristically similar schools in the College Scorecard dataset. "
   ]
  },
  {
   "cell_type": "markdown",
   "metadata": {},
   "source": [
    "### IMPORTING LIBRARIES"
   ]
  },
  {
   "cell_type": "code",
   "execution_count": 1,
   "metadata": {},
   "outputs": [],
   "source": [
    "import numpy as np\n",
    "import pandas as pd\n",
    "import matplotlib.pyplot as plt"
   ]
  },
  {
   "cell_type": "markdown",
   "metadata": {},
   "source": [
    "### READING THE DATA"
   ]
  },
  {
   "cell_type": "code",
   "execution_count": 2,
   "metadata": {},
   "outputs": [
    {
     "name": "stderr",
     "output_type": "stream",
     "text": [
      "C:\\Users\\AMRITA\\Anaconda3\\lib\\site-packages\\IPython\\core\\interactiveshell.py:3058: DtypeWarning: Columns (7,9,1427,1542,1561,1575) have mixed types.Specify dtype option on import or set low_memory=False.\n",
      "  interactivity=interactivity, compiler=compiler, result=result)\n"
     ]
    }
   ],
   "source": [
    "df=pd.read_csv(\"C:/Users/AMRITA/Certification courses/Own Projects/exercises-cluster-analysis-exercise-2/original/CollegeScorecard.csv\")"
   ]
  },
  {
   "cell_type": "code",
   "execution_count": 3,
   "metadata": {},
   "outputs": [
    {
     "data": {
      "text/html": [
       "<div>\n",
       "<style scoped>\n",
       "    .dataframe tbody tr th:only-of-type {\n",
       "        vertical-align: middle;\n",
       "    }\n",
       "\n",
       "    .dataframe tbody tr th {\n",
       "        vertical-align: top;\n",
       "    }\n",
       "\n",
       "    .dataframe thead th {\n",
       "        text-align: right;\n",
       "    }\n",
       "</style>\n",
       "<table border=\"1\" class=\"dataframe\">\n",
       "  <thead>\n",
       "    <tr style=\"text-align: right;\">\n",
       "      <th></th>\n",
       "      <th>UNITID</th>\n",
       "      <th>OPEID</th>\n",
       "      <th>opeid6</th>\n",
       "      <th>INSTNM</th>\n",
       "      <th>CITY</th>\n",
       "      <th>STABBR</th>\n",
       "      <th>ZIP</th>\n",
       "      <th>AccredAgency</th>\n",
       "      <th>INSTURL</th>\n",
       "      <th>NPCURL</th>\n",
       "      <th>...</th>\n",
       "      <th>COMPL_RPY_3YR_RT_SUPP</th>\n",
       "      <th>NONCOM_RPY_3YR_RT_SUPP</th>\n",
       "      <th>DEP_RPY_3YR_RT_SUPP</th>\n",
       "      <th>IND_RPY_3YR_RT_SUPP</th>\n",
       "      <th>PELL_RPY_3YR_RT_SUPP</th>\n",
       "      <th>NOPELL_RPY_3YR_RT_SUPP</th>\n",
       "      <th>FEMALE_RPY_3YR_RT_SUPP</th>\n",
       "      <th>MALE_RPY_3YR_RT_SUPP</th>\n",
       "      <th>FIRSTGEN_RPY_3YR_RT_SUPP</th>\n",
       "      <th>NOTFIRSTGEN_RPY_3YR_RT_SUPP</th>\n",
       "    </tr>\n",
       "  </thead>\n",
       "  <tbody>\n",
       "    <tr>\n",
       "      <th>0</th>\n",
       "      <td>100654</td>\n",
       "      <td>100200</td>\n",
       "      <td>1002</td>\n",
       "      <td>Alabama A &amp; M University</td>\n",
       "      <td>Normal</td>\n",
       "      <td>AL</td>\n",
       "      <td>35762</td>\n",
       "      <td>Southern Association of Colleges and Schools C...</td>\n",
       "      <td>www.aamu.edu/</td>\n",
       "      <td>galileo.aamu.edu/netpricecalculator/npcalc.htm</td>\n",
       "      <td>...</td>\n",
       "      <td>0.578873239</td>\n",
       "      <td>0.373790022</td>\n",
       "      <td>0.442857143</td>\n",
       "      <td>0.45890411</td>\n",
       "      <td>0.443586698</td>\n",
       "      <td>0.452513966</td>\n",
       "      <td>0.484818805</td>\n",
       "      <td>0.406</td>\n",
       "      <td>0.423580786</td>\n",
       "      <td>0.44245283</td>\n",
       "    </tr>\n",
       "    <tr>\n",
       "      <th>1</th>\n",
       "      <td>100663</td>\n",
       "      <td>105200</td>\n",
       "      <td>1052</td>\n",
       "      <td>University of Alabama at Birmingham</td>\n",
       "      <td>Birmingham</td>\n",
       "      <td>AL</td>\n",
       "      <td>35294-0110</td>\n",
       "      <td>Southern Association of Colleges and Schools C...</td>\n",
       "      <td>www.uab.edu</td>\n",
       "      <td>www.collegeportraits.org/AL/UAB/estimator/agree</td>\n",
       "      <td>...</td>\n",
       "      <td>0.847800926</td>\n",
       "      <td>0.678748759</td>\n",
       "      <td>0.767798013</td>\n",
       "      <td>0.739164697</td>\n",
       "      <td>0.732297853</td>\n",
       "      <td>0.795454545</td>\n",
       "      <td>0.760521886</td>\n",
       "      <td>0.755344418</td>\n",
       "      <td>0.751552795</td>\n",
       "      <td>0.765074771</td>\n",
       "    </tr>\n",
       "    <tr>\n",
       "      <th>2</th>\n",
       "      <td>100690</td>\n",
       "      <td>2503400</td>\n",
       "      <td>25034</td>\n",
       "      <td>Amridge University</td>\n",
       "      <td>Montgomery</td>\n",
       "      <td>AL</td>\n",
       "      <td>36117-3553</td>\n",
       "      <td>Southern Association of Colleges and Schools C...</td>\n",
       "      <td>www.amridgeuniversity.edu</td>\n",
       "      <td>tcc.noellevitz.com/(S(miwoihs5stz5cpyifh4nczu0...</td>\n",
       "      <td>...</td>\n",
       "      <td>0.807692308</td>\n",
       "      <td>0.61328125</td>\n",
       "      <td>PrivacySuppressed</td>\n",
       "      <td>0.641114983</td>\n",
       "      <td>0.600877193</td>\n",
       "      <td>0.775</td>\n",
       "      <td>0.610465116</td>\n",
       "      <td>0.686567164</td>\n",
       "      <td>0.632653061</td>\n",
       "      <td>0.65</td>\n",
       "    </tr>\n",
       "    <tr>\n",
       "      <th>3</th>\n",
       "      <td>100706</td>\n",
       "      <td>105500</td>\n",
       "      <td>1055</td>\n",
       "      <td>University of Alabama in Huntsville</td>\n",
       "      <td>Huntsville</td>\n",
       "      <td>AL</td>\n",
       "      <td>35899</td>\n",
       "      <td>Southern Association of Colleges and Schools C...</td>\n",
       "      <td>www.uah.edu</td>\n",
       "      <td>finaid.uah.edu/</td>\n",
       "      <td>...</td>\n",
       "      <td>0.892045455</td>\n",
       "      <td>0.689788054</td>\n",
       "      <td>0.800347222</td>\n",
       "      <td>0.75564409</td>\n",
       "      <td>0.738341969</td>\n",
       "      <td>0.851405622</td>\n",
       "      <td>0.768378651</td>\n",
       "      <td>0.79844098</td>\n",
       "      <td>0.778156997</td>\n",
       "      <td>0.791666667</td>\n",
       "    </tr>\n",
       "    <tr>\n",
       "      <th>4</th>\n",
       "      <td>100724</td>\n",
       "      <td>100500</td>\n",
       "      <td>1005</td>\n",
       "      <td>Alabama State University</td>\n",
       "      <td>Montgomery</td>\n",
       "      <td>AL</td>\n",
       "      <td>36104-0271</td>\n",
       "      <td>Southern Association of Colleges and Schools C...</td>\n",
       "      <td>www.alasu.edu/email/index.aspx</td>\n",
       "      <td>www.alasu.edu/cost-aid/forms/calculator/index....</td>\n",
       "      <td>...</td>\n",
       "      <td>0.482490272</td>\n",
       "      <td>0.315996848</td>\n",
       "      <td>0.32410212</td>\n",
       "      <td>0.350993377</td>\n",
       "      <td>0.320016821</td>\n",
       "      <td>0.380829016</td>\n",
       "      <td>0.364423718</td>\n",
       "      <td>0.286530612</td>\n",
       "      <td>0.315737052</td>\n",
       "      <td>0.334633385</td>\n",
       "    </tr>\n",
       "  </tbody>\n",
       "</table>\n",
       "<p>5 rows × 1725 columns</p>\n",
       "</div>"
      ],
      "text/plain": [
       "   UNITID    OPEID  opeid6                               INSTNM        CITY  \\\n",
       "0  100654   100200    1002             Alabama A & M University      Normal   \n",
       "1  100663   105200    1052  University of Alabama at Birmingham  Birmingham   \n",
       "2  100690  2503400   25034                   Amridge University  Montgomery   \n",
       "3  100706   105500    1055  University of Alabama in Huntsville  Huntsville   \n",
       "4  100724   100500    1005             Alabama State University  Montgomery   \n",
       "\n",
       "  STABBR         ZIP                                       AccredAgency  \\\n",
       "0     AL       35762  Southern Association of Colleges and Schools C...   \n",
       "1     AL  35294-0110  Southern Association of Colleges and Schools C...   \n",
       "2     AL  36117-3553  Southern Association of Colleges and Schools C...   \n",
       "3     AL       35899  Southern Association of Colleges and Schools C...   \n",
       "4     AL  36104-0271  Southern Association of Colleges and Schools C...   \n",
       "\n",
       "                          INSTURL  \\\n",
       "0                   www.aamu.edu/   \n",
       "1                     www.uab.edu   \n",
       "2       www.amridgeuniversity.edu   \n",
       "3                     www.uah.edu   \n",
       "4  www.alasu.edu/email/index.aspx   \n",
       "\n",
       "                                              NPCURL  ...  \\\n",
       "0     galileo.aamu.edu/netpricecalculator/npcalc.htm  ...   \n",
       "1    www.collegeportraits.org/AL/UAB/estimator/agree  ...   \n",
       "2  tcc.noellevitz.com/(S(miwoihs5stz5cpyifh4nczu0...  ...   \n",
       "3                                    finaid.uah.edu/  ...   \n",
       "4  www.alasu.edu/cost-aid/forms/calculator/index....  ...   \n",
       "\n",
       "   COMPL_RPY_3YR_RT_SUPP  NONCOM_RPY_3YR_RT_SUPP  DEP_RPY_3YR_RT_SUPP  \\\n",
       "0            0.578873239             0.373790022          0.442857143   \n",
       "1            0.847800926             0.678748759          0.767798013   \n",
       "2            0.807692308              0.61328125    PrivacySuppressed   \n",
       "3            0.892045455             0.689788054          0.800347222   \n",
       "4            0.482490272             0.315996848           0.32410212   \n",
       "\n",
       "   IND_RPY_3YR_RT_SUPP  PELL_RPY_3YR_RT_SUPP  NOPELL_RPY_3YR_RT_SUPP  \\\n",
       "0           0.45890411           0.443586698             0.452513966   \n",
       "1          0.739164697           0.732297853             0.795454545   \n",
       "2          0.641114983           0.600877193                   0.775   \n",
       "3           0.75564409           0.738341969             0.851405622   \n",
       "4          0.350993377           0.320016821             0.380829016   \n",
       "\n",
       "   FEMALE_RPY_3YR_RT_SUPP  MALE_RPY_3YR_RT_SUPP  FIRSTGEN_RPY_3YR_RT_SUPP  \\\n",
       "0             0.484818805                 0.406               0.423580786   \n",
       "1             0.760521886           0.755344418               0.751552795   \n",
       "2             0.610465116           0.686567164               0.632653061   \n",
       "3             0.768378651            0.79844098               0.778156997   \n",
       "4             0.364423718           0.286530612               0.315737052   \n",
       "\n",
       "   NOTFIRSTGEN_RPY_3YR_RT_SUPP  \n",
       "0                   0.44245283  \n",
       "1                  0.765074771  \n",
       "2                         0.65  \n",
       "3                  0.791666667  \n",
       "4                  0.334633385  \n",
       "\n",
       "[5 rows x 1725 columns]"
      ]
     },
     "execution_count": 3,
     "metadata": {},
     "output_type": "execute_result"
    }
   ],
   "source": [
    "df.head()"
   ]
  },
  {
   "cell_type": "code",
   "execution_count": 4,
   "metadata": {},
   "outputs": [
    {
     "data": {
      "text/plain": [
       "(7804, 1725)"
      ]
     },
     "execution_count": 4,
     "metadata": {},
     "output_type": "execute_result"
    }
   ],
   "source": [
    "df.shape"
   ]
  },
  {
   "cell_type": "markdown",
   "metadata": {},
   "source": [
    "### REMOVING DUPLICATE ROWS IF ANY"
   ]
  },
  {
   "cell_type": "code",
   "execution_count": 5,
   "metadata": {},
   "outputs": [],
   "source": [
    "df= df.drop_duplicates()"
   ]
  },
  {
   "cell_type": "markdown",
   "metadata": {},
   "source": [
    "### DROPPING COLUMNS WITH MORE THAN 30% MISSING VALUES"
   ]
  },
  {
   "cell_type": "code",
   "execution_count": 6,
   "metadata": {},
   "outputs": [],
   "source": [
    "df= df.replace(to_replace=\"PrivacySuppressed\", value=np.nan)"
   ]
  },
  {
   "cell_type": "markdown",
   "metadata": {},
   "source": [
    "__Some null values are in the form of PrivacySuppressed.__ "
   ]
  },
  {
   "cell_type": "code",
   "execution_count": 7,
   "metadata": {},
   "outputs": [
    {
     "data": {
      "text/plain": [
       "Index(['sch_deg', 'locale2', 'CCBASIC', 'CCUGPROF', 'CCSIZSET', 'RELAFFIL',\n",
       "       'ADM_RATE', 'ADM_RATE_ALL', 'SATVR25', 'SATVR75',\n",
       "       ...\n",
       "       'pct90_earn_wne_p8', 'sd_earn_wne_p8', 'gt_25k_p8', 'count_nwne_p9',\n",
       "       'count_wne_p9', 'mn_earn_wne_p9', 'sd_earn_wne_p9', 'gt_25k_p9',\n",
       "       'HI_INC_RPY_3YR_RT_SUPP', 'MALE_RPY_3YR_RT_SUPP'],\n",
       "      dtype='object', length=1374)"
      ]
     },
     "execution_count": 7,
     "metadata": {},
     "output_type": "execute_result"
    }
   ],
   "source": [
    "x= df.isnull().sum()[df.isnull().sum()>=2341]\n",
    "x.index"
   ]
  },
  {
   "cell_type": "markdown",
   "metadata": {},
   "source": [
    "__30% missing values means 2341 values out of 7804 values is missing in a column.__"
   ]
  },
  {
   "cell_type": "code",
   "execution_count": 8,
   "metadata": {},
   "outputs": [],
   "source": [
    "df.drop(columns=x.index,inplace= True)"
   ]
  },
  {
   "cell_type": "code",
   "execution_count": 9,
   "metadata": {},
   "outputs": [
    {
     "data": {
      "text/plain": [
       "(7804, 351)"
      ]
     },
     "execution_count": 9,
     "metadata": {},
     "output_type": "execute_result"
    }
   ],
   "source": [
    "df.shape"
   ]
  },
  {
   "cell_type": "markdown",
   "metadata": {},
   "source": [
    "### REMOVING CATEGORICAL VARIABLES & QUALITATIVE VARIABLES"
   ]
  },
  {
   "cell_type": "markdown",
   "metadata": {},
   "source": [
    "#### Removing binary categorical columns"
   ]
  },
  {
   "cell_type": "code",
   "execution_count": 10,
   "metadata": {},
   "outputs": [],
   "source": [
    "cat1= df.nunique()[df.nunique()==2]"
   ]
  },
  {
   "cell_type": "code",
   "execution_count": 11,
   "metadata": {},
   "outputs": [],
   "source": [
    "df.drop(columns= cat1.index,inplace= True)"
   ]
  },
  {
   "cell_type": "code",
   "execution_count": 12,
   "metadata": {},
   "outputs": [
    {
     "data": {
      "text/plain": [
       "PREDDEG        5\n",
       "HIGHDEG        5\n",
       "CONTROL        3\n",
       "region        10\n",
       "LOCALE        12\n",
       "              ..\n",
       "CIP54CERT1     3\n",
       "CIP54CERT2     3\n",
       "CIP54ASSOC     3\n",
       "CIP54CERT4     3\n",
       "CIP54BACHL     3\n",
       "Length: 195, dtype: int64"
      ]
     },
     "execution_count": 12,
     "metadata": {},
     "output_type": "execute_result"
    }
   ],
   "source": [
    "df.nunique()[df.nunique()<=20]"
   ]
  },
  {
   "cell_type": "markdown",
   "metadata": {},
   "source": [
    "__There are 195 columns which we have assumed to be categorcal because they have upto 20 unique values.__\n",
    "__CIP columns have 3 unique values and from data dictionary they indicate that they are categorical columns.__"
   ]
  },
  {
   "cell_type": "markdown",
   "metadata": {},
   "source": [
    "#### Checking for columns with 3 unique values"
   ]
  },
  {
   "cell_type": "code",
   "execution_count": 13,
   "metadata": {},
   "outputs": [
    {
     "data": {
      "text/plain": [
       "CONTROL       3\n",
       "CIP01CERT1    3\n",
       "CIP01CERT2    3\n",
       "CIP01ASSOC    3\n",
       "CIP01CERT4    3\n",
       "             ..\n",
       "CIP54CERT1    3\n",
       "CIP54CERT2    3\n",
       "CIP54ASSOC    3\n",
       "CIP54CERT4    3\n",
       "CIP54BACHL    3\n",
       "Length: 190, dtype: int64"
      ]
     },
     "execution_count": 13,
     "metadata": {},
     "output_type": "execute_result"
    }
   ],
   "source": [
    "cat2= df.nunique()[df.nunique()==3]\n",
    "cat2"
   ]
  },
  {
   "cell_type": "markdown",
   "metadata": {},
   "source": [
    "__Since there 190 variables with 3 unique values, we have to make sure if all the remaining 189 columns are CIP variables.__"
   ]
  },
  {
   "cell_type": "code",
   "execution_count": 14,
   "metadata": {},
   "outputs": [
    {
     "data": {
      "text/plain": [
       "CONTROL       3\n",
       "CIP01CERT1    3\n",
       "CIP01CERT2    3\n",
       "CIP01ASSOC    3\n",
       "CIP01CERT4    3\n",
       "CIP01BACHL    3\n",
       "CIP03CERT1    3\n",
       "CIP03CERT2    3\n",
       "CIP03ASSOC    3\n",
       "CIP03CERT4    3\n",
       "CIP03BACHL    3\n",
       "CIP04CERT1    3\n",
       "CIP04CERT2    3\n",
       "CIP04ASSOC    3\n",
       "CIP04CERT4    3\n",
       "CIP04BACHL    3\n",
       "CIP05CERT1    3\n",
       "CIP05CERT2    3\n",
       "CIP05ASSOC    3\n",
       "CIP05CERT4    3\n",
       "CIP05BACHL    3\n",
       "CIP09CERT1    3\n",
       "CIP09CERT2    3\n",
       "CIP09ASSOC    3\n",
       "CIP09CERT4    3\n",
       "CIP09BACHL    3\n",
       "CIP10CERT1    3\n",
       "CIP10CERT2    3\n",
       "CIP10ASSOC    3\n",
       "CIP10CERT4    3\n",
       "CIP10BACHL    3\n",
       "CIP11CERT1    3\n",
       "CIP11CERT2    3\n",
       "CIP11ASSOC    3\n",
       "CIP11CERT4    3\n",
       "CIP11BACHL    3\n",
       "CIP12CERT1    3\n",
       "CIP12CERT2    3\n",
       "CIP12ASSOC    3\n",
       "CIP12CERT4    3\n",
       "CIP12BACHL    3\n",
       "CIP13CERT1    3\n",
       "CIP13CERT2    3\n",
       "CIP13ASSOC    3\n",
       "CIP13CERT4    3\n",
       "CIP13BACHL    3\n",
       "CIP14CERT1    3\n",
       "CIP14CERT2    3\n",
       "CIP14ASSOC    3\n",
       "CIP14CERT4    3\n",
       "dtype: int64"
      ]
     },
     "execution_count": 14,
     "metadata": {},
     "output_type": "execute_result"
    }
   ],
   "source": [
    "cat2.head(50)"
   ]
  },
  {
   "cell_type": "code",
   "execution_count": 15,
   "metadata": {},
   "outputs": [
    {
     "data": {
      "text/plain": [
       "CIP44CERT1    3\n",
       "CIP44CERT2    3\n",
       "CIP44ASSOC    3\n",
       "CIP44CERT4    3\n",
       "CIP44BACHL    3\n",
       "CIP45CERT1    3\n",
       "CIP45CERT2    3\n",
       "CIP45ASSOC    3\n",
       "CIP45CERT4    3\n",
       "CIP45BACHL    3\n",
       "CIP46CERT1    3\n",
       "CIP46CERT2    3\n",
       "CIP46ASSOC    3\n",
       "CIP46CERT4    3\n",
       "CIP46BACHL    3\n",
       "CIP47CERT1    3\n",
       "CIP47CERT2    3\n",
       "CIP47ASSOC    3\n",
       "CIP47CERT4    3\n",
       "CIP47BACHL    3\n",
       "CIP48CERT1    3\n",
       "CIP48CERT2    3\n",
       "CIP48ASSOC    3\n",
       "CIP48CERT4    3\n",
       "CIP48BACHL    3\n",
       "CIP49CERT1    3\n",
       "CIP49CERT2    3\n",
       "CIP49ASSOC    3\n",
       "CIP49CERT4    3\n",
       "CIP49BACHL    3\n",
       "CIP50CERT1    3\n",
       "CIP50CERT2    3\n",
       "CIP50ASSOC    3\n",
       "CIP50CERT4    3\n",
       "CIP50BACHL    3\n",
       "CIP51CERT1    3\n",
       "CIP51CERT2    3\n",
       "CIP51ASSOC    3\n",
       "CIP51CERT4    3\n",
       "CIP51BACHL    3\n",
       "CIP52CERT1    3\n",
       "CIP52CERT2    3\n",
       "CIP52ASSOC    3\n",
       "CIP52CERT4    3\n",
       "CIP52BACHL    3\n",
       "CIP54CERT1    3\n",
       "CIP54CERT2    3\n",
       "CIP54ASSOC    3\n",
       "CIP54CERT4    3\n",
       "CIP54BACHL    3\n",
       "dtype: int64"
      ]
     },
     "execution_count": 15,
     "metadata": {},
     "output_type": "execute_result"
    }
   ],
   "source": [
    "cat2.tail(50)"
   ]
  },
  {
   "cell_type": "markdown",
   "metadata": {},
   "source": [
    "__The first and last 50 predictors are CIP variables. Now we need to check the remaining 89 predictors.__"
   ]
  },
  {
   "cell_type": "code",
   "execution_count": 16,
   "metadata": {},
   "outputs": [
    {
     "data": {
      "text/plain": [
       "CIP15CERT1    3\n",
       "CIP15CERT2    3\n",
       "CIP15ASSOC    3\n",
       "CIP15CERT4    3\n",
       "CIP15BACHL    3\n",
       "CIP16CERT1    3\n",
       "CIP16CERT2    3\n",
       "CIP16ASSOC    3\n",
       "CIP16CERT4    3\n",
       "CIP16BACHL    3\n",
       "CIP19CERT1    3\n",
       "CIP19CERT2    3\n",
       "CIP19ASSOC    3\n",
       "CIP19CERT4    3\n",
       "CIP19BACHL    3\n",
       "CIP22CERT1    3\n",
       "CIP22CERT2    3\n",
       "CIP22ASSOC    3\n",
       "CIP22CERT4    3\n",
       "CIP22BACHL    3\n",
       "CIP23CERT1    3\n",
       "CIP23CERT2    3\n",
       "CIP23ASSOC    3\n",
       "CIP23CERT4    3\n",
       "CIP23BACHL    3\n",
       "CIP24CERT1    3\n",
       "CIP24CERT2    3\n",
       "CIP24ASSOC    3\n",
       "CIP24CERT4    3\n",
       "CIP24BACHL    3\n",
       "CIP25CERT1    3\n",
       "CIP25CERT2    3\n",
       "CIP25ASSOC    3\n",
       "CIP25CERT4    3\n",
       "CIP25BACHL    3\n",
       "CIP26CERT1    3\n",
       "CIP26CERT2    3\n",
       "CIP26ASSOC    3\n",
       "CIP26CERT4    3\n",
       "CIP26BACHL    3\n",
       "CIP27CERT1    3\n",
       "CIP27CERT2    3\n",
       "CIP27ASSOC    3\n",
       "CIP27CERT4    3\n",
       "CIP27BACHL    3\n",
       "dtype: int64"
      ]
     },
     "execution_count": 16,
     "metadata": {},
     "output_type": "execute_result"
    }
   ],
   "source": [
    "cat2[51:96]"
   ]
  },
  {
   "cell_type": "code",
   "execution_count": 17,
   "metadata": {},
   "outputs": [
    {
     "data": {
      "text/plain": [
       "CIP29CERT2    3\n",
       "CIP29ASSOC    3\n",
       "CIP29BACHL    3\n",
       "CIP30CERT1    3\n",
       "CIP30CERT2    3\n",
       "CIP30ASSOC    3\n",
       "CIP30CERT4    3\n",
       "CIP30BACHL    3\n",
       "CIP31CERT1    3\n",
       "CIP31CERT2    3\n",
       "CIP31ASSOC    3\n",
       "CIP31CERT4    3\n",
       "CIP31BACHL    3\n",
       "CIP38CERT1    3\n",
       "CIP38CERT2    3\n",
       "CIP38ASSOC    3\n",
       "CIP38CERT4    3\n",
       "CIP38BACHL    3\n",
       "CIP39CERT1    3\n",
       "CIP39CERT2    3\n",
       "CIP39ASSOC    3\n",
       "CIP39CERT4    3\n",
       "CIP39BACHL    3\n",
       "CIP40CERT1    3\n",
       "CIP40CERT2    3\n",
       "CIP40ASSOC    3\n",
       "CIP40CERT4    3\n",
       "CIP40BACHL    3\n",
       "CIP41CERT1    3\n",
       "CIP41CERT2    3\n",
       "CIP41ASSOC    3\n",
       "CIP41CERT4    3\n",
       "CIP41BACHL    3\n",
       "CIP42CERT1    3\n",
       "CIP42CERT2    3\n",
       "CIP42ASSOC    3\n",
       "CIP42CERT4    3\n",
       "CIP42BACHL    3\n",
       "CIP43CERT1    3\n",
       "CIP43CERT2    3\n",
       "CIP43ASSOC    3\n",
       "CIP43CERT4    3\n",
       "CIP43BACHL    3\n",
       "CIP44CERT1    3\n",
       "dtype: int64"
      ]
     },
     "execution_count": 17,
     "metadata": {},
     "output_type": "execute_result"
    }
   ],
   "source": [
    "cat2[97:141]"
   ]
  },
  {
   "cell_type": "markdown",
   "metadata": {},
   "source": [
    "__Since all the 189 columns are CIP variables, we are assured that all of them can be removed from the data set because they are categorical in nature. CONTROL too is a categorical column which represents whether the institution’s governance structure is public, private nonprofit, or private for-profit.__"
   ]
  },
  {
   "cell_type": "code",
   "execution_count": 18,
   "metadata": {},
   "outputs": [],
   "source": [
    "df.drop(columns= cat2.index, inplace= True)"
   ]
  },
  {
   "cell_type": "code",
   "execution_count": 19,
   "metadata": {},
   "outputs": [
    {
     "data": {
      "text/plain": [
       "(7804, 145)"
      ]
     },
     "execution_count": 19,
     "metadata": {},
     "output_type": "execute_result"
    }
   ],
   "source": [
    "df.shape"
   ]
  },
  {
   "cell_type": "code",
   "execution_count": 20,
   "metadata": {},
   "outputs": [
    {
     "data": {
      "text/plain": [
       "PREDDEG     5\n",
       "HIGHDEG     5\n",
       "region     10\n",
       "LOCALE     12\n",
       "PCIP29     12\n",
       "dtype: int64"
      ]
     },
     "execution_count": 20,
     "metadata": {},
     "output_type": "execute_result"
    }
   ],
   "source": [
    "df.nunique()[df.nunique()<=20]"
   ]
  },
  {
   "cell_type": "markdown",
   "metadata": {},
   "source": [
    "__PREDDEG can take only 5 values. Where the value 0 represents a missing informaion. So it is definitely categorical. Similarly for HIGHDEG as well.__"
   ]
  },
  {
   "cell_type": "markdown",
   "metadata": {},
   "source": [
    "__We cannot consider PCIP29 as a categorical column because it of float data type and can take any value.__"
   ]
  },
  {
   "cell_type": "code",
   "execution_count": 21,
   "metadata": {},
   "outputs": [
    {
     "data": {
      "text/plain": [
       "array([5, 8, 6, 4, 7, 1, 2, 3, 0, 9], dtype=int64)"
      ]
     },
     "execution_count": 21,
     "metadata": {},
     "output_type": "execute_result"
    }
   ],
   "source": [
    "df.region.unique()"
   ]
  },
  {
   "cell_type": "code",
   "execution_count": 22,
   "metadata": {},
   "outputs": [
    {
     "data": {
      "text/plain": [
       "0"
      ]
     },
     "execution_count": 22,
     "metadata": {},
     "output_type": "execute_result"
    }
   ],
   "source": [
    "df.region.isnull().sum()"
   ]
  },
  {
   "cell_type": "code",
   "execution_count": 23,
   "metadata": {},
   "outputs": [
    {
     "data": {
      "text/plain": [
       "array([12., 13., 32., 31., 41., 21., 43., 42., 11., 23., 33., 22., nan])"
      ]
     },
     "execution_count": 23,
     "metadata": {},
     "output_type": "execute_result"
    }
   ],
   "source": [
    "df.LOCALE.unique()"
   ]
  },
  {
   "cell_type": "code",
   "execution_count": 24,
   "metadata": {},
   "outputs": [
    {
     "data": {
      "text/plain": [
       "424"
      ]
     },
     "execution_count": 24,
     "metadata": {},
     "output_type": "execute_result"
    }
   ],
   "source": [
    "df.LOCALE.isnull().sum()"
   ]
  },
  {
   "cell_type": "markdown",
   "metadata": {},
   "source": [
    "__Since there is no information about region and LOCALE, we cannot conclude if it is categorical or not. So we consider them as continuous variables.__"
   ]
  },
  {
   "cell_type": "code",
   "execution_count": 25,
   "metadata": {},
   "outputs": [],
   "source": [
    "df.drop(columns= ['PREDDEG','HIGHDEG'], inplace=True)"
   ]
  },
  {
   "cell_type": "code",
   "execution_count": 26,
   "metadata": {},
   "outputs": [
    {
     "data": {
      "text/plain": [
       "(7804, 143)"
      ]
     },
     "execution_count": 26,
     "metadata": {},
     "output_type": "execute_result"
    }
   ],
   "source": [
    "df.shape"
   ]
  },
  {
   "cell_type": "markdown",
   "metadata": {},
   "source": [
    "__Now from 1725 columns, we are left with 143 columns.__"
   ]
  },
  {
   "cell_type": "markdown",
   "metadata": {},
   "source": [
    "#### Dropping qualitative variables"
   ]
  },
  {
   "cell_type": "code",
   "execution_count": 27,
   "metadata": {},
   "outputs": [
    {
     "data": {
      "text/plain": [
       "Index(['UNITID', 'OPEID', 'opeid6', 'INSTNM', 'CITY', 'STABBR', 'ZIP',\n",
       "       'AccredAgency', 'INSTURL', 'NPCURL',\n",
       "       ...\n",
       "       'MD_INC_RPY_3YR_RT_SUPP', 'COMPL_RPY_3YR_RT_SUPP',\n",
       "       'NONCOM_RPY_3YR_RT_SUPP', 'DEP_RPY_3YR_RT_SUPP', 'IND_RPY_3YR_RT_SUPP',\n",
       "       'PELL_RPY_3YR_RT_SUPP', 'NOPELL_RPY_3YR_RT_SUPP',\n",
       "       'FEMALE_RPY_3YR_RT_SUPP', 'FIRSTGEN_RPY_3YR_RT_SUPP',\n",
       "       'NOTFIRSTGEN_RPY_3YR_RT_SUPP'],\n",
       "      dtype='object', length=143)"
      ]
     },
     "execution_count": 27,
     "metadata": {},
     "output_type": "execute_result"
    }
   ],
   "source": [
    "df.columns"
   ]
  },
  {
   "cell_type": "code",
   "execution_count": 28,
   "metadata": {},
   "outputs": [],
   "source": [
    "df.drop(columns=['UNITID', 'OPEID', 'opeid6', 'INSTNM', 'CITY','STABBR', 'ZIP', 'AccredAgency', 'INSTURL', 'NPCURL'],inplace=True)"
   ]
  },
  {
   "cell_type": "code",
   "execution_count": 29,
   "metadata": {},
   "outputs": [
    {
     "data": {
      "text/plain": [
       "Index(['NUMBRANCH', 'st_fips', 'region', 'LOCALE', 'LATITUDE', 'LONGITUDE',\n",
       "       'PCIP01', 'PCIP03', 'PCIP04', 'PCIP05',\n",
       "       ...\n",
       "       'MD_INC_RPY_3YR_RT_SUPP', 'COMPL_RPY_3YR_RT_SUPP',\n",
       "       'NONCOM_RPY_3YR_RT_SUPP', 'DEP_RPY_3YR_RT_SUPP', 'IND_RPY_3YR_RT_SUPP',\n",
       "       'PELL_RPY_3YR_RT_SUPP', 'NOPELL_RPY_3YR_RT_SUPP',\n",
       "       'FEMALE_RPY_3YR_RT_SUPP', 'FIRSTGEN_RPY_3YR_RT_SUPP',\n",
       "       'NOTFIRSTGEN_RPY_3YR_RT_SUPP'],\n",
       "      dtype='object', length=133)"
      ]
     },
     "execution_count": 29,
     "metadata": {},
     "output_type": "execute_result"
    }
   ],
   "source": [
    "df.columns"
   ]
  },
  {
   "cell_type": "code",
   "execution_count": 30,
   "metadata": {},
   "outputs": [],
   "source": [
    "df.drop(columns=['st_fips','LATITUDE', 'LONGITUDE'],inplace=True)"
   ]
  },
  {
   "cell_type": "code",
   "execution_count": 31,
   "metadata": {},
   "outputs": [
    {
     "data": {
      "text/plain": [
       "(7804, 130)"
      ]
     },
     "execution_count": 31,
     "metadata": {},
     "output_type": "execute_result"
    }
   ],
   "source": [
    "df.shape"
   ]
  },
  {
   "cell_type": "markdown",
   "metadata": {},
   "source": [
    "### TREATING MISSING VALUES"
   ]
  },
  {
   "cell_type": "code",
   "execution_count": 32,
   "metadata": {},
   "outputs": [
    {
     "data": {
      "text/plain": [
       "128"
      ]
     },
     "execution_count": 32,
     "metadata": {},
     "output_type": "execute_result"
    }
   ],
   "source": [
    "null_val= df.isnull().sum()[df.isnull().sum()>0]\n",
    "null_val.count()"
   ]
  },
  {
   "cell_type": "markdown",
   "metadata": {},
   "source": [
    "__We need to impute the missing values for 128 columns.__"
   ]
  },
  {
   "cell_type": "code",
   "execution_count": 33,
   "metadata": {},
   "outputs": [],
   "source": [
    "col= null_val.index\n",
    "v=0\n",
    "for i in col:\n",
    "    medians= df[i].median()\n",
    "    df[i]= df[i].fillna(value=medians)"
   ]
  },
  {
   "cell_type": "code",
   "execution_count": 34,
   "metadata": {},
   "outputs": [
    {
     "data": {
      "text/plain": [
       "Series([], dtype: int64)"
      ]
     },
     "execution_count": 34,
     "metadata": {},
     "output_type": "execute_result"
    }
   ],
   "source": [
    "df.isnull().sum()[df.isnull().sum()>0]"
   ]
  },
  {
   "cell_type": "code",
   "execution_count": 35,
   "metadata": {},
   "outputs": [
    {
     "data": {
      "text/plain": [
       "array([12., 13., 32., 31., 41., 21., 43., 42., 11., 23., 33., 22.])"
      ]
     },
     "execution_count": 35,
     "metadata": {},
     "output_type": "execute_result"
    }
   ],
   "source": [
    "df.LOCALE.unique()"
   ]
  },
  {
   "cell_type": "markdown",
   "metadata": {},
   "source": [
    "### APPLYING PCA TO REDUCE DIMENSIONS"
   ]
  },
  {
   "cell_type": "code",
   "execution_count": 36,
   "metadata": {},
   "outputs": [],
   "source": [
    "X= df.values"
   ]
  },
  {
   "cell_type": "code",
   "execution_count": 37,
   "metadata": {},
   "outputs": [
    {
     "name": "stdout",
     "output_type": "stream",
     "text": [
      "[[-11142.82  15770.2   19614.78 ...      0.       -0.        0.  ]\n",
      " [ -5521.68  27266.4    3272.6  ...      0.       -0.        0.  ]\n",
      " [-19234.87    -42.66   6807.83 ...      0.        0.       -0.  ]\n",
      " ...\n",
      " [-20641.16  31274.06  -5292.6  ...      0.       -0.        0.  ]\n",
      " [-20214.15 -27469.55  -3911.63 ...     -0.       -0.       -0.  ]\n",
      " [ 10838.31  10146.47  -4442.12 ...      0.       -0.        0.  ]]\n"
     ]
    }
   ],
   "source": [
    "from sklearn.decomposition import PCA\n",
    "\n",
    "pca = PCA(n_components= 130)\n",
    "pca_fit=pca.fit(X)\n",
    "reduced_X = pca_fit.transform(X)\n",
    "\n",
    "# 127 Columns present in X are now represented by 4 Principal components present in reduced_X\n",
    "print(np.round(reduced_X[0:130],2))"
   ]
  },
  {
   "cell_type": "code",
   "execution_count": 38,
   "metadata": {},
   "outputs": [
    {
     "name": "stdout",
     "output_type": "stream",
     "text": [
      "[0.86 0.06 0.03 0.02 0.01 0.   0.   0.   0.   0.   0.   0.   0.   0.\n",
      " 0.   0.   0.   0.   0.   0.   0.   0.   0.   0.   0.   0.   0.   0.\n",
      " 0.   0.   0.   0.   0.   0.   0.   0.   0.   0.   0.   0.   0.   0.\n",
      " 0.   0.   0.   0.   0.   0.   0.   0.   0.   0.   0.   0.   0.   0.\n",
      " 0.   0.   0.   0.   0.   0.   0.   0.   0.   0.   0.   0.   0.   0.\n",
      " 0.   0.   0.   0.   0.   0.   0.   0.   0.   0.   0.   0.   0.   0.\n",
      " 0.   0.   0.   0.   0.   0.   0.   0.   0.   0.   0.   0.   0.   0.\n",
      " 0.   0.   0.   0.   0.   0.   0.   0.   0.   0.   0.   0.   0.   0.\n",
      " 0.   0.   0.   0.   0.   0.   0.   0.   0.   0.   0.   0.   0.   0.\n",
      " 0.   0.   0.   0.  ]\n"
     ]
    }
   ],
   "source": [
    "var_explained= pca.explained_variance_ratio_\n",
    "print(np.round(var_explained,2))"
   ]
  },
  {
   "cell_type": "code",
   "execution_count": 39,
   "metadata": {},
   "outputs": [
    {
     "name": "stdout",
     "output_type": "stream",
     "text": [
      "[ 86.25  92.54  95.28  97.14  97.99  98.44  98.82  99.09  99.35  99.51\n",
      "  99.63  99.7   99.75  99.79  99.83  99.86  99.89  99.91  99.93  99.95\n",
      "  99.96  99.97  99.98  99.99 100.   100.   100.   100.   100.   100.\n",
      " 100.   100.   100.   100.   100.   100.   100.   100.   100.   100.\n",
      " 100.   100.   100.   100.   100.   100.   100.   100.   100.   100.\n",
      " 100.   100.   100.   100.   100.   100.   100.   100.   100.   100.\n",
      " 100.   100.   100.   100.   100.   100.   100.   100.   100.   100.\n",
      " 100.   100.   100.   100.   100.   100.   100.   100.   100.   100.\n",
      " 100.   100.   100.   100.   100.   100.   100.   100.   100.   100.\n",
      " 100.   100.   100.   100.   100.   100.   100.   100.   100.   100.\n",
      " 100.   100.   100.   100.   100.   100.   100.   100.   100.   100.\n",
      " 100.   100.   100.   100.   100.   100.   100.   100.   100.   100.\n",
      " 100.   100.   100.   100.   100.   100.   100.   100.   100.   100.  ]\n"
     ]
    }
   ],
   "source": [
    "var_explained_cumulative=np.cumsum(np.round(pca.explained_variance_ratio_, decimals=4)*100)\n",
    "print(var_explained_cumulative)"
   ]
  },
  {
   "cell_type": "code",
   "execution_count": 40,
   "metadata": {},
   "outputs": [
    {
     "data": {
      "text/plain": [
       "(-1, 15)"
      ]
     },
     "execution_count": 40,
     "metadata": {},
     "output_type": "execute_result"
    },
    {
     "data": {
      "image/png": "[encoded data removed]",
      "text/plain": [
       "<Figure size 432x288 with 1 Axes>"
      ]
     },
     "metadata": {
      "needs_background": "light"
     },
     "output_type": "display_data"
    }
   ],
   "source": [
    "plt.plot( range(1,131), var_explained_cumulative )\n",
    "plt.xlabel('Number of components')\n",
    "plt.ylabel('% Variance explained')\n",
    "plt.xlim(-1,15)"
   ]
  },
  {
   "cell_type": "markdown",
   "metadata": {},
   "source": [
    "__We are getting 5 optimal pricipal components.__"
   ]
  },
  {
   "cell_type": "code",
   "execution_count": 41,
   "metadata": {},
   "outputs": [],
   "source": [
    "pca = PCA(n_components=4)\n",
    "\n",
    "# fitting the data\n",
    "pca_fit=pca.fit(X)\n",
    "\n",
    "# calculating the principal components\n",
    "reduced_X = pca_fit.transform(X)\n",
    "#130 Columns present in X are now represented by 4-Principal components present in reduced_X"
   ]
  },
  {
   "cell_type": "code",
   "execution_count": 42,
   "metadata": {},
   "outputs": [
    {
     "data": {
      "text/html": [
       "<div>\n",
       "<style scoped>\n",
       "    .dataframe tbody tr th:only-of-type {\n",
       "        vertical-align: middle;\n",
       "    }\n",
       "\n",
       "    .dataframe tbody tr th {\n",
       "        vertical-align: top;\n",
       "    }\n",
       "\n",
       "    .dataframe thead th {\n",
       "        text-align: right;\n",
       "    }\n",
       "</style>\n",
       "<table border=\"1\" class=\"dataframe\">\n",
       "  <thead>\n",
       "    <tr style=\"text-align: right;\">\n",
       "      <th></th>\n",
       "      <th>PC1</th>\n",
       "      <th>PC2</th>\n",
       "      <th>PC3</th>\n",
       "      <th>PC4</th>\n",
       "    </tr>\n",
       "  </thead>\n",
       "  <tbody>\n",
       "    <tr>\n",
       "      <th>0</th>\n",
       "      <td>-11142.817723</td>\n",
       "      <td>15770.197722</td>\n",
       "      <td>19614.780916</td>\n",
       "      <td>40565.986226</td>\n",
       "    </tr>\n",
       "    <tr>\n",
       "      <th>1</th>\n",
       "      <td>-5521.677795</td>\n",
       "      <td>27266.401353</td>\n",
       "      <td>3272.597462</td>\n",
       "      <td>8726.552244</td>\n",
       "    </tr>\n",
       "    <tr>\n",
       "      <th>2</th>\n",
       "      <td>-19234.874657</td>\n",
       "      <td>-42.659523</td>\n",
       "      <td>6807.829477</td>\n",
       "      <td>17461.728926</td>\n",
       "    </tr>\n",
       "    <tr>\n",
       "      <th>3</th>\n",
       "      <td>-13654.056988</td>\n",
       "      <td>30245.979809</td>\n",
       "      <td>1953.265276</td>\n",
       "      <td>10701.475656</td>\n",
       "    </tr>\n",
       "    <tr>\n",
       "      <th>4</th>\n",
       "      <td>-7579.077763</td>\n",
       "      <td>8426.984639</td>\n",
       "      <td>17675.333865</td>\n",
       "      <td>33850.587979</td>\n",
       "    </tr>\n",
       "  </tbody>\n",
       "</table>\n",
       "</div>"
      ],
      "text/plain": [
       "            PC1           PC2           PC3           PC4\n",
       "0 -11142.817723  15770.197722  19614.780916  40565.986226\n",
       "1  -5521.677795  27266.401353   3272.597462   8726.552244\n",
       "2 -19234.874657    -42.659523   6807.829477  17461.728926\n",
       "3 -13654.056988  30245.979809   1953.265276  10701.475656\n",
       "4  -7579.077763   8426.984639  17675.333865  33850.587979"
      ]
     },
     "execution_count": 42,
     "metadata": {},
     "output_type": "execute_result"
    }
   ],
   "source": [
    "df2= pd.DataFrame(reduced_X, columns=['PC1','PC2','PC3','PC4'])\n",
    "df2.head()"
   ]
  },
  {
   "cell_type": "code",
   "execution_count": 43,
   "metadata": {},
   "outputs": [
    {
     "data": {
      "text/html": [
       "<div>\n",
       "<style scoped>\n",
       "    .dataframe tbody tr th:only-of-type {\n",
       "        vertical-align: middle;\n",
       "    }\n",
       "\n",
       "    .dataframe tbody tr th {\n",
       "        vertical-align: top;\n",
       "    }\n",
       "\n",
       "    .dataframe thead th {\n",
       "        text-align: right;\n",
       "    }\n",
       "</style>\n",
       "<table border=\"1\" class=\"dataframe\">\n",
       "  <thead>\n",
       "    <tr style=\"text-align: right;\">\n",
       "      <th></th>\n",
       "      <th>PC1</th>\n",
       "      <th>PC2</th>\n",
       "      <th>PC3</th>\n",
       "      <th>PC4</th>\n",
       "    </tr>\n",
       "  </thead>\n",
       "  <tbody>\n",
       "    <tr>\n",
       "      <th>0</th>\n",
       "      <td>-0.118658</td>\n",
       "      <td>0.622114</td>\n",
       "      <td>1.172913</td>\n",
       "      <td>2.938748</td>\n",
       "    </tr>\n",
       "    <tr>\n",
       "      <th>1</th>\n",
       "      <td>-0.058799</td>\n",
       "      <td>1.075625</td>\n",
       "      <td>0.195693</td>\n",
       "      <td>0.632183</td>\n",
       "    </tr>\n",
       "    <tr>\n",
       "      <th>2</th>\n",
       "      <td>-0.204829</td>\n",
       "      <td>-0.001683</td>\n",
       "      <td>0.407091</td>\n",
       "      <td>1.264991</td>\n",
       "    </tr>\n",
       "    <tr>\n",
       "      <th>3</th>\n",
       "      <td>-0.145400</td>\n",
       "      <td>1.193165</td>\n",
       "      <td>0.116800</td>\n",
       "      <td>0.775254</td>\n",
       "    </tr>\n",
       "    <tr>\n",
       "      <th>4</th>\n",
       "      <td>-0.080708</td>\n",
       "      <td>0.332434</td>\n",
       "      <td>1.056940</td>\n",
       "      <td>2.452260</td>\n",
       "    </tr>\n",
       "  </tbody>\n",
       "</table>\n",
       "</div>"
      ],
      "text/plain": [
       "        PC1       PC2       PC3       PC4\n",
       "0 -0.118658  0.622114  1.172913  2.938748\n",
       "1 -0.058799  1.075625  0.195693  0.632183\n",
       "2 -0.204829 -0.001683  0.407091  1.264991\n",
       "3 -0.145400  1.193165  0.116800  0.775254\n",
       "4 -0.080708  0.332434  1.056940  2.452260"
      ]
     },
     "execution_count": 43,
     "metadata": {},
     "output_type": "execute_result"
    }
   ],
   "source": [
    "from sklearn.preprocessing import StandardScaler\n",
    "PredictorScaler=StandardScaler()\n",
    "x= df2.values\n",
    "PredictorScalerFit=PredictorScaler.fit(x)\n",
    "\n",
    "# Generating the standardized values \n",
    "x_scaled= PredictorScalerFit.transform(x)\n",
    "df3= pd.DataFrame(x_scaled)\n",
    "df3.columns=['PC1','PC2','PC3','PC4']\n",
    "df3.head()"
   ]
  },
  {
   "cell_type": "code",
   "execution_count": 44,
   "metadata": {},
   "outputs": [],
   "source": [
    "v= df3.values"
   ]
  },
  {
   "cell_type": "code",
   "execution_count": 45,
   "metadata": {},
   "outputs": [
    {
     "data": {
      "image/png": "[encoded data removed]",
      "text/plain": [
       "<Figure size 432x288 with 1 Axes>"
      ]
     },
     "metadata": {
      "needs_background": "light"
     },
     "output_type": "display_data"
    }
   ],
   "source": [
    "# Finding the best number of clusters based on the inertia value\n",
    "from sklearn.cluster import KMeans\n",
    "import matplotlib.pyplot as plt\n",
    "inertiaValue = []\n",
    "for i in range(1, 15):\n",
    "    km = KMeans(n_clusters=i, \n",
    "                init='random', \n",
    "                n_init=10, \n",
    "                max_iter=300,\n",
    "                tol=1e-04,\n",
    "                random_state=0)\n",
    "    \n",
    "    km.fit(v)\n",
    "    inertiaValue.append(km.inertia_)\n",
    "    \n",
    "plt.plot(range(1, 15), inertiaValue, marker='o')\n",
    "plt.xlabel('Number of clusters')\n",
    "plt.ylabel('Inertia')\n",
    "plt.tight_layout()\n",
    "plt.show()"
   ]
  },
  {
   "cell_type": "code",
   "execution_count": 46,
   "metadata": {},
   "outputs": [],
   "source": [
    "# Defining the K-Means object for best number of clusters. n=9 in this case\n",
    "km = KMeans(n_clusters= 5, \n",
    "            init='k-means++', \n",
    "            n_init=10, \n",
    "            max_iter=300,\n",
    "            tol=1e-04,\n",
    "            random_state=0)"
   ]
  },
  {
   "cell_type": "code",
   "execution_count": 47,
   "metadata": {},
   "outputs": [
    {
     "name": "stdout",
     "output_type": "stream",
     "text": [
      "[4 1 4 ... 0 0 0]\n",
      "Inertia: 7880.341019786409\n"
     ]
    }
   ],
   "source": [
    "predictedCluster = km.fit_predict(v)\n",
    "print(predictedCluster)\n",
    "print('Inertia:', km.inertia_)"
   ]
  },
  {
   "cell_type": "code",
   "execution_count": 48,
   "metadata": {},
   "outputs": [
    {
     "data": {
      "text/html": [
       "<div>\n",
       "<style scoped>\n",
       "    .dataframe tbody tr th:only-of-type {\n",
       "        vertical-align: middle;\n",
       "    }\n",
       "\n",
       "    .dataframe tbody tr th {\n",
       "        vertical-align: top;\n",
       "    }\n",
       "\n",
       "    .dataframe thead th {\n",
       "        text-align: right;\n",
       "    }\n",
       "</style>\n",
       "<table border=\"1\" class=\"dataframe\">\n",
       "  <thead>\n",
       "    <tr style=\"text-align: right;\">\n",
       "      <th></th>\n",
       "      <th>PC1</th>\n",
       "      <th>PC2</th>\n",
       "      <th>PC3</th>\n",
       "      <th>PC4</th>\n",
       "      <th>PredictedClusterID</th>\n",
       "    </tr>\n",
       "  </thead>\n",
       "  <tbody>\n",
       "    <tr>\n",
       "      <th>0</th>\n",
       "      <td>-0.118658</td>\n",
       "      <td>0.622114</td>\n",
       "      <td>1.172913</td>\n",
       "      <td>2.938748</td>\n",
       "      <td>4</td>\n",
       "    </tr>\n",
       "    <tr>\n",
       "      <th>1</th>\n",
       "      <td>-0.058799</td>\n",
       "      <td>1.075625</td>\n",
       "      <td>0.195693</td>\n",
       "      <td>0.632183</td>\n",
       "      <td>1</td>\n",
       "    </tr>\n",
       "    <tr>\n",
       "      <th>2</th>\n",
       "      <td>-0.204829</td>\n",
       "      <td>-0.001683</td>\n",
       "      <td>0.407091</td>\n",
       "      <td>1.264991</td>\n",
       "      <td>4</td>\n",
       "    </tr>\n",
       "    <tr>\n",
       "      <th>3</th>\n",
       "      <td>-0.145400</td>\n",
       "      <td>1.193165</td>\n",
       "      <td>0.116800</td>\n",
       "      <td>0.775254</td>\n",
       "      <td>1</td>\n",
       "    </tr>\n",
       "    <tr>\n",
       "      <th>4</th>\n",
       "      <td>-0.080708</td>\n",
       "      <td>0.332434</td>\n",
       "      <td>1.056940</td>\n",
       "      <td>2.452260</td>\n",
       "      <td>4</td>\n",
       "    </tr>\n",
       "  </tbody>\n",
       "</table>\n",
       "</div>"
      ],
      "text/plain": [
       "        PC1       PC2       PC3       PC4  PredictedClusterID\n",
       "0 -0.118658  0.622114  1.172913  2.938748                   4\n",
       "1 -0.058799  1.075625  0.195693  0.632183                   1\n",
       "2 -0.204829 -0.001683  0.407091  1.264991                   4\n",
       "3 -0.145400  1.193165  0.116800  0.775254                   1\n",
       "4 -0.080708  0.332434  1.056940  2.452260                   4"
      ]
     },
     "execution_count": 48,
     "metadata": {},
     "output_type": "execute_result"
    }
   ],
   "source": [
    "df3['PredictedClusterID']=predictedCluster\n",
    "df3.head()"
   ]
  },
  {
   "cell_type": "code",
   "execution_count": 49,
   "metadata": {},
   "outputs": [
    {
     "data": {
      "text/plain": [
       "<matplotlib.collections.PathCollection at 0x1a37730e148>"
      ]
     },
     "execution_count": 49,
     "metadata": {},
     "output_type": "execute_result"
    },
    {
     "data": {
      "image/png": "[encoded data removed]",
      "text/plain": [
       "<Figure size 432x288 with 1 Axes>"
      ]
     },
     "metadata": {
      "needs_background": "light"
     },
     "output_type": "display_data"
    }
   ],
   "source": [
    "%matplotlib inline\n",
    "plt.scatter(x=df3['PC2'], y=df3['PC4'], c=df3['PredictedClusterID'])"
   ]
  },
  {
   "cell_type": "code",
   "execution_count": 50,
   "metadata": {},
   "outputs": [
    {
     "data": {
      "text/plain": [
       "0    4224\n",
       "4    1912\n",
       "1    1435\n",
       "2     162\n",
       "3      71\n",
       "Name: PredictedClusterID, dtype: int64"
      ]
     },
     "execution_count": 50,
     "metadata": {},
     "output_type": "execute_result"
    }
   ],
   "source": [
    "df3['PredictedClusterID'].value_counts()"
   ]
  },
  {
   "cell_type": "code",
   "execution_count": 57,
   "metadata": {},
   "outputs": [
    {
     "name": "stdout",
     "output_type": "stream",
     "text": [
      "        PC1       PC2       PC3       PC4  PredictedClusterID  \\\n",
      "0 -0.118658  0.622114  1.172913  2.938748                   4   \n",
      "1 -0.058799  1.075625  0.195693  0.632183                   1   \n",
      "2 -0.204829 -0.001683  0.407091  1.264991                   4   \n",
      "3 -0.145400  1.193165  0.116800  0.775254                   1   \n",
      "4 -0.080708  0.332434  1.056940  2.452260                   4   \n",
      "\n",
      "   PredictedClusterID_2  \n",
      "0                     0  \n",
      "1                     0  \n",
      "2                     0  \n",
      "3                     0  \n",
      "4                     0  \n"
     ]
    },
    {
     "data": {
      "text/plain": [
       "<matplotlib.collections.PathCollection at 0x1a30706ff08>"
      ]
     },
     "execution_count": 57,
     "metadata": {},
     "output_type": "execute_result"
    },
    {
     "data": {
      "image/png": "[encoded data removed]",
      "text/plain": [
       "<Figure size 432x288 with 1 Axes>"
      ]
     },
     "metadata": {
      "needs_background": "light"
     },
     "output_type": "display_data"
    }
   ],
   "source": [
    "# DBSCAN automatically choosed the number of clusters based on eps and min_samples\n",
    "from sklearn.cluster import DBSCAN\n",
    "db = DBSCAN(eps= 1.5, min_samples=4)\n",
    "\n",
    "df3['PredictedClusterID_2']=db.fit_predict(v)\n",
    "\n",
    "print(df3.head())\n",
    "plt.scatter(x=df3['PC2'], y=df3['PC3'], c=df3['PredictedClusterID_2'])"
   ]
  },
  {
   "cell_type": "code",
   "execution_count": 56,
   "metadata": {},
   "outputs": [
    {
     "data": {
      "text/plain": [
       " 0    7571\n",
       " 1     141\n",
       " 2      71\n",
       " 4      15\n",
       " 3       4\n",
       "-1       2\n",
       "Name: PredictedClusterID_2, dtype: int64"
      ]
     },
     "execution_count": 56,
     "metadata": {},
     "output_type": "execute_result"
    }
   ],
   "source": [
    "df3['PredictedClusterID_2'].value_counts()"
   ]
  },
  {
   "cell_type": "markdown",
   "metadata": {},
   "source": [
    "__-1 indicates the point is a noise, and does not belong to any cluster__\n",
    "\n",
    "__FROM BOTH K-MEANS AND DBSCAN, WE GET 5 CLUSTERS.__"
   ]
  },
  {
   "cell_type": "code",
   "execution_count": null,
   "metadata": {},
   "outputs": [],
   "source": []
  }
 ],
 "metadata": {
  "kernelspec": {
   "display_name": "Python 3",
   "language": "python",
   "name": "python3"
  },
  "language_info": {
   "codemirror_mode": {
    "name": "ipython",
    "version": 3
   },
   "file_extension": ".py",
   "mimetype": "text/x-python",
   "name": "python",
   "nbconvert_exporter": "python",
   "pygments_lexer": "ipython3",
   "version": "3.7.4"
  }
 },
 "nbformat": 4,
 "nbformat_minor": 2
}
